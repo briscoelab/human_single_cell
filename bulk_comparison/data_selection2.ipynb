{
 "cells": [
  {
   "cell_type": "code",
   "execution_count": 1,
   "metadata": {},
   "outputs": [],
   "source": [
    ".libPaths(c(\"/camp/lab/briscoej/working/Rory/.conda/my_envs/r_lab/lib/R/library\",\n",
    "          \"/camp/lab/briscoej/working/Rory/R_packages\",\n",
    "          \"/camp/home/maizelr/R/x86_64-pc-linux-gnu-library/3.6\",\n",
    "          \"/camp/apps/eb/software/R/3.6.2-foss-2019b/lib64/R/library\"))"
   ]
  },
  {
   "cell_type": "code",
   "execution_count": 2,
   "metadata": {},
   "outputs": [
    {
     "name": "stderr",
     "output_type": "stream",
     "text": [
      "Loading required package: Seurat\n",
      "\n",
      "Registered S3 method overwritten by 'GGally':\n",
      "  method from   \n",
      "  +.gg   ggplot2\n",
      "\n",
      "\n",
      "Attaching package: ‘sctree’\n",
      "\n",
      "\n",
      "The following objects are masked from ‘package:Seurat’:\n",
      "\n",
      "    FindAllMarkers, FindConservedMarkers, FindMarkers\n",
      "\n",
      "\n",
      "\n",
      "Attaching package: ‘ggplot2’\n",
      "\n",
      "\n",
      "The following object is masked from ‘package:sctree’:\n",
      "\n",
      "    autoplot\n",
      "\n",
      "\n",
      "\n",
      "Attaching package: ‘patchwork’\n",
      "\n",
      "\n",
      "The following object is masked from ‘package:cowplot’:\n",
      "\n",
      "    align_plots\n",
      "\n",
      "\n",
      "\n",
      "Attaching package: ‘dplyr’\n",
      "\n",
      "\n",
      "The following objects are masked from ‘package:plyr’:\n",
      "\n",
      "    arrange, count, desc, failwith, id, mutate, rename, summarise,\n",
      "    summarize\n",
      "\n",
      "\n",
      "The following objects are masked from ‘package:stats’:\n",
      "\n",
      "    filter, lag\n",
      "\n",
      "\n",
      "The following objects are masked from ‘package:base’:\n",
      "\n",
      "    intersect, setdiff, setequal, union\n",
      "\n",
      "\n",
      "\n",
      "Attaching package: ‘data.table’\n",
      "\n",
      "\n",
      "The following objects are masked from ‘package:dplyr’:\n",
      "\n",
      "    between, first, last\n",
      "\n",
      "\n"
     ]
    }
   ],
   "source": [
    "# load libraries\n",
    "library(sctree);\n",
    "library(Seurat);\n",
    "library(ggplot2);\n",
    "library(cowplot);\n",
    "library(patchwork);\n",
    "library(plyr);\n",
    "library(dplyr);\n",
    "library(data.table);\n",
    "library(RColorBrewer);\n",
    "library(grDevices);"
   ]
  },
  {
   "cell_type": "code",
   "execution_count": 3,
   "metadata": {},
   "outputs": [
    {
     "data": {
      "text/html": [
       "<style>\n",
       ".list-inline {list-style: none; margin:0; padding: 0}\n",
       ".list-inline>li {display: inline-block}\n",
       ".list-inline>li:not(:last-child)::after {content: \"\\00b7\"; padding: 0 .5ex}\n",
       "</style>\n",
       "<ol class=list-inline><li>'CS12'</li><li>'CS14'</li><li>'CS17'</li><li>'CS19'</li></ol>\n"
      ],
      "text/latex": [
       "\\begin{enumerate*}\n",
       "\\item 'CS12'\n",
       "\\item 'CS14'\n",
       "\\item 'CS17'\n",
       "\\item 'CS19'\n",
       "\\end{enumerate*}\n"
      ],
      "text/markdown": [
       "1. 'CS12'\n",
       "2. 'CS14'\n",
       "3. 'CS17'\n",
       "4. 'CS19'\n",
       "\n",
       "\n"
      ],
      "text/plain": [
       "[1] \"CS12\" \"CS14\" \"CS17\" \"CS19\""
      ]
     },
     "metadata": {},
     "output_type": "display_data"
    }
   ],
   "source": [
    "\n",
    "human <- readRDS('../../seurat_objects/human_celltyped.rds')\n",
    "\n",
    "genes <- read.csv('genes.csv')\n",
    "\n",
    "types <- c(\"p3\",\"pMN\",\"V3\",\"MN\")\n",
    "\n",
    "DefaultAssay(human) <- 'RNA'\n",
    "\n",
    "h_sub <- human[,human$Type_step2 %in% types]\n",
    "\n",
    "DefaultAssay(h_sub) <- 'RNA'\n",
    "\n",
    "h_sub <- h_sub[genes$external_gene_name,]\n",
    "\n",
    "unique(h_sub$orig.timepoint)\n",
    "tpdats <- c()\n",
    "tps <- c()\n",
    "for (tp in unique(h_sub$orig.timepoint)){\n",
    "  htp <- h_sub[,h_sub$orig.timepoint==tp]\n",
    "  hmu <- rowMeans(as.matrix(GetAssayData(htp, assay = 'RNA')))\n",
    "  tpdats <- c(tpdats, hmu)\n",
    "  tps <- c(tps, tp)\n",
    "}\n",
    "\n",
    "df <- data.frame(matrix(ncol = 4, nrow = length(rownames(h_sub))))\n",
    "colnames(df) <- unique(h_sub$orig.timepoint)\n",
    "row.names(df) <- rownames(h_sub)\n",
    "for (tp in unique(h_sub$orig.timepoint)){\n",
    "  htp <- h_sub[,h_sub$orig.timepoint==tp]\n",
    "  hmu <- rowMeans(as.matrix(GetAssayData(htp, assay = 'RNA')))\n",
    "  df[tp] = hmu\n",
    "}\n",
    "\n",
    "write.csv(x=df, file='agg_data_p3_pMN.csv')"
   ]
  },
  {
   "cell_type": "code",
   "execution_count": null,
   "metadata": {},
   "outputs": [],
   "source": []
  }
 ],
 "metadata": {
  "kernelspec": {
   "display_name": "R",
   "language": "R",
   "name": "ir"
  },
  "language_info": {
   "codemirror_mode": "r",
   "file_extension": ".r",
   "mimetype": "text/x-r-source",
   "name": "R",
   "pygments_lexer": "r",
   "version": "3.6.2"
  }
 },
 "nbformat": 4,
 "nbformat_minor": 4
}
